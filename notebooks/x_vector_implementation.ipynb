{
  "nbformat": 4,
  "nbformat_minor": 0,
  "metadata": {
    "colab": {
      "provenance": [],
      "authorship_tag": "ABX9TyN81/j0bLJpISAJPRXoLpIp",
      "include_colab_link": true
    },
    "kernelspec": {
      "name": "python3",
      "display_name": "Python 3"
    },
    "language_info": {
      "name": "python"
    }
  },
  "cells": [
    {
      "cell_type": "markdown",
      "metadata": {
        "id": "view-in-github",
        "colab_type": "text"
      },
      "source": [
        "<a href=\"https://colab.research.google.com/github/01PrathamS/ECAPA-TDNN-Implementation/blob/main/notebooks/x_vector_implementation.ipynb\" target=\"_parent\"><img src=\"https://colab.research.google.com/assets/colab-badge.svg\" alt=\"Open In Colab\"/></a>"
      ]
    },
    {
      "cell_type": "code",
      "execution_count": 2,
      "metadata": {
        "colab": {
          "base_uri": "https://localhost:8080/"
        },
        "id": "eo3MriPjP4PG",
        "outputId": "8e2770af-d121-445b-b2dd-8f5f42041989"
      },
      "outputs": [
        {
          "output_type": "stream",
          "name": "stdout",
          "text": [
            "XVector(\n",
            "  (tdnn1): TDNNLayer(\n",
            "    (tdnn): Conv1d(30, 512, kernel_size=(5,), stride=(1,))\n",
            "    (relu): ReLU()\n",
            "    (bn): BatchNorm1d(512, eps=1e-05, momentum=0.1, affine=True, track_running_stats=True)\n",
            "  )\n",
            "  (tdnn2): TDNNLayer(\n",
            "    (tdnn): Conv1d(512, 512, kernel_size=(3,), stride=(1,))\n",
            "    (relu): ReLU()\n",
            "    (bn): BatchNorm1d(512, eps=1e-05, momentum=0.1, affine=True, track_running_stats=True)\n",
            "  )\n",
            "  (tdnn3): TDNNLayer(\n",
            "    (tdnn): Conv1d(512, 512, kernel_size=(3,), stride=(1,))\n",
            "    (relu): ReLU()\n",
            "    (bn): BatchNorm1d(512, eps=1e-05, momentum=0.1, affine=True, track_running_stats=True)\n",
            "  )\n",
            "  (tdnn4): TDNNLayer(\n",
            "    (tdnn): Conv1d(512, 512, kernel_size=(1,), stride=(1,))\n",
            "    (relu): ReLU()\n",
            "    (bn): BatchNorm1d(512, eps=1e-05, momentum=0.1, affine=True, track_running_stats=True)\n",
            "  )\n",
            "  (tdnn5): TDNNLayer(\n",
            "    (tdnn): Conv1d(512, 512, kernel_size=(1,), stride=(1,))\n",
            "    (relu): ReLU()\n",
            "    (bn): BatchNorm1d(512, eps=1e-05, momentum=0.1, affine=True, track_running_stats=True)\n",
            "  )\n",
            "  (pooling): AdaptiveAvgPool1d(output_size=1)\n",
            "  (fc1): Linear(in_features=512, out_features=512, bias=True)\n",
            "  (relu): ReLU()\n",
            "  (bn): BatchNorm1d(512, eps=1e-05, momentum=0.1, affine=True, track_running_stats=True)\n",
            "  (fc2): Linear(in_features=512, out_features=1000, bias=True)\n",
            ")\n"
          ]
        }
      ],
      "source": [
        "import torch\n",
        "import torch.nn as nn\n",
        "import torch.optim as optim\n",
        "\n",
        "class TDNNLayer(nn.Module):\n",
        "\n",
        "  def __init__(self, input_dim, output_dim, context_size=1, dilation=1):\n",
        "    super(TDNNLayer, self).__init__()\n",
        "    self.tdnn = nn.Conv1d(input_dim, output_dim, kernel_size=context_size, dilation=dilation)\n",
        "    self.relu = nn.ReLU()\n",
        "    self.bn = nn.BatchNorm1d(output_dim)\n",
        "\n",
        "  def forward(self, x):\n",
        "    x = self.tdnn(x)\n",
        "    x = self.bn(x)\n",
        "    return self.relu(x)\n",
        "\n",
        "class XVector(nn.Module):\n",
        "\n",
        "  def __init__(self, input_dim=30, num_speakers=1000, embedding_dim=512):\n",
        "    super(XVector, self).__init__()\n",
        "\n",
        "    self.tdnn1 = TDNNLayer(input_dim, 512, context_size=5)\n",
        "    self.tdnn2 = TDNNLayer(512, 512, context_size=3)\n",
        "    self.tdnn3 = TDNNLayer(512, 512, context_size=3)\n",
        "    self.tdnn4 = TDNNLayer(512, 512, context_size=1)\n",
        "    self.tdnn5 = TDNNLayer(512, 512, context_size=1)\n",
        "\n",
        "    self.pooling = nn.AdaptiveAvgPool1d(1)  ## Mean Pooling across time\n",
        "\n",
        "    self.fc1 = nn.Linear(512, embedding_dim)\n",
        "    self.relu = nn.ReLU()\n",
        "    self.bn = nn.BatchNorm1d(embedding_dim)\n",
        "\n",
        "    self.fc2 = nn.Linear(embedding_dim, num_speakers)\n",
        "\n",
        "  def forward(self, x):\n",
        "\n",
        "    x = x.permute(0, 2, 1)\n",
        "\n",
        "    x = self.tdnn1(x)\n",
        "    x = self.tdnn2(x)\n",
        "    x = self.tdnn3(x)\n",
        "    x = self.tdnn4(x)\n",
        "    x = self.tdnn5(x)\n",
        "\n",
        "    x = self.pooling(x)\n",
        "    x = x.squeeze(-1)\n",
        "\n",
        "    x = self.fc1(x)\n",
        "    x = self.bn(x)\n",
        "    x = self.relu(x)\n",
        "\n",
        "    logits = self.fc2(x)\n",
        "    return x, logits\n",
        "\n",
        "\n",
        "model = XVector(input_dim=30, num_speakers=1000)\n",
        "print(model)"
      ]
    },
    {
      "cell_type": "code",
      "source": [
        "## Dummy Dataset\n",
        "\n",
        "batch_size, time_steps, features = 16, 100, 30\n",
        "num_speakers = 1000\n",
        "\n",
        "dummy_data = torch.randn(batch_size, time_steps, features)\n",
        "dummy_labels = torch.randint(0, num_speakers, (batch_size, ))\n",
        "\n",
        "\n",
        "criterion = nn.CrossEntropyLoss()\n",
        "optimizer = optim.Adam(model.parameters(), lr=0.001)\n",
        "\n",
        "model.train()\n",
        "optimizer.zero_grad()\n",
        "embedding, logits = model(dummy_data)\n",
        "loss = criterion(logits, dummy_labels)\n",
        "loss.backward()\n",
        "optimizer.step()\n",
        "\n",
        "print(f\"Training Loss: {loss.item(): .4f}\")"
      ],
      "metadata": {
        "colab": {
          "base_uri": "https://localhost:8080/"
        },
        "id": "O80WsQXuRQGS",
        "outputId": "28c9d043-5855-4d39-a34f-13c0bd382119"
      },
      "execution_count": 11,
      "outputs": [
        {
          "output_type": "stream",
          "name": "stdout",
          "text": [
            "Training Loss:  7.0490\n"
          ]
        }
      ]
    },
    {
      "cell_type": "code",
      "source": [],
      "metadata": {
        "id": "kHmb2SVRR-9c"
      },
      "execution_count": null,
      "outputs": []
    }
  ]
}